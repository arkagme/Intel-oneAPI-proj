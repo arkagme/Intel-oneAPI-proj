{
 "cells": [
  {
   "cell_type": "code",
   "execution_count": 1,
   "id": "9316651f-e5bf-4859-a2ba-660512bde4b2",
   "metadata": {},
   "outputs": [],
   "source": [
    "import scipy.io as sio\n",
    "import pandas as pd\n",
    "import numpy as np\n",
    "from scipy.stats import kurtosis,skew\n",
    "import statistics as st\n",
    "from antropy import petrosian_fd as pfd \n",
    "from antropy import detrended_fluctuation as dfa\n",
    "from hurst import compute_Hc as he\n",
    "from pyentrp import entropy\n",
    "\n",
    "testmeta = pd.read_csv('test_meta.csv')\n",
    "testsignal = pd.read_csv('test_signal.csv')\n",
    "trainmeta = pd.read_csv('train_meta.csv')\n",
    "trainsignal = pd.read_csv('train_signal.csv')"
   ]
  },
  {
   "cell_type": "code",
   "execution_count": 2,
   "id": "317c2a37-099c-4494-9f81-9efb8b0baa7f",
   "metadata": {},
   "outputs": [],
   "source": [
    "trainmeta = trainmeta.drop(['MI', 'STTC', 'HYP', 'CD', 'sub_NORM', 'sub_IMI', 'sub_STTC',\n",
    "       'sub_NST_', 'sub_LVH', 'sub_LAFB/LPFB', 'sub_RVH', 'sub_RAO/RAE',\n",
    "       'sub_IRBBB', 'sub_IVCD', 'sub_LMI', 'sub_AMI', 'sub__AVB', 'sub_ISCA',\n",
    "       'sub_ISC_', 'sub_SEHYP', 'sub_ISCI', 'sub_CRBBB', 'sub_CLBBB',\n",
    "       'sub_LAO/LAE', 'sub_ILBBB', 'sub_WPW', 'sub_PMI', 'strat_fold'],axis=1)\n",
    "testmeta = testmeta.drop(['MI', 'STTC', 'HYP', 'CD', 'sub_NORM', 'sub_IMI', 'sub_STTC',\n",
    "       'sub_NST_', 'sub_LVH', 'sub_LAFB/LPFB', 'sub_RVH', 'sub_RAO/RAE',\n",
    "       'sub_IRBBB', 'sub_IVCD', 'sub_LMI', 'sub_AMI', 'sub__AVB', 'sub_ISCA',\n",
    "       'sub_ISC_', 'sub_SEHYP', 'sub_ISCI', 'sub_CRBBB', 'sub_CLBBB',\n",
    "       'sub_LAO/LAE', 'sub_ILBBB', 'sub_WPW', 'sub_PMI', 'strat_fold'],axis=1)\n"
   ]
  },
  {
   "cell_type": "code",
   "execution_count": 3,
   "id": "7c150035-e596-4b2b-909b-999d8a4c45e8",
   "metadata": {
    "scrolled": true
   },
   "outputs": [],
   "source": [
    "sigdict = {}\n",
    "for i in trainmeta['ecg_id']:\n",
    "    sigdict[i] = np.array(trainsignal[trainsignal['ecg_id']==i].drop(['ecg_id'],axis=1)).T"
   ]
  },
  {
   "cell_type": "code",
   "execution_count": 4,
   "id": "4f865fe1-66d9-47cf-8191-a9d4b0e64b22",
   "metadata": {},
   "outputs": [],
   "source": [
    "def hjorth(a):\n",
    "    first_deriv = np.diff(a)\n",
    "    second_deriv = np.diff(a,2)\n",
    "\n",
    "    var_zero = np.mean(a ** 2)\n",
    "    var_d1 = np.mean(first_deriv ** 2)\n",
    "    var_d2 = np.mean(second_deriv ** 2)\n",
    "\n",
    "    activity = var_zero\n",
    "    morbidity = np.sqrt(var_d1 / var_zero)\n",
    "    complexity = np.sqrt(var_d2 / var_d1) / morbidity\n",
    "\n",
    "    return activity, morbidity, complexity"
   ]
  },
  {
   "cell_type": "code",
   "execution_count": null,
   "id": "b720292d-7e0b-46ca-9f52-8c2965238c95",
   "metadata": {
    "scrolled": true
   },
   "outputs": [],
   "source": [
    "\n",
    "features = {}\n",
    "for k,d in sigdict.items():\n",
    "    features[k]={}\n",
    "    for ch,row in enumerate(d):\n",
    "        mean,std,kurt,skeww,minn,maxx,med,mode,q1,q3 = np.mean(row),np.std(row),kurtosis(row),skew(row),min(row),max(row),np.median(row),st.mode(row),np.quantile(row,.25),np.quantile(row,.75)\n",
    "        iqr = q3-q1\n",
    "        act,mob,comp = hjorth(row)\n",
    "        petf,defa,heux = pfd(row),dfa(row),he(row)[0]\n",
    "        perm,samp,shan = entropy.permutation_entropy(row,3,1),entropy.sample_entropy(row,2,0.2*np.std(row)),entropy.shannon_entropy(row)\n",
    "        energy = 0\n",
    "        for x in row:\n",
    "            energy+=(x**2)\n",
    "        features[k][ch] = [mean,std,kurt,skeww,minn,maxx,med,mode,q1,q3,iqr,act,mob,comp,petf,defa,heux,perm,samp,shan,energy]\n",
    "\n"
   ]
  },
  {
   "cell_type": "code",
   "execution_count": null,
   "id": "7599c661-d6b4-4e48-83f1-1db2d9d63279",
   "metadata": {},
   "outputs": [],
   "source": [
    "trainmeta = pd.concat([trainmeta,trainmeta,trainmeta,trainmeta,trainmeta,trainmeta,trainmeta,trainmeta,trainmeta,trainmeta,trainmeta],axis=0)\n",
    "trainmeta = trainmeta.sort_values(by='ecg_id',ascending=True)"
   ]
  },
  {
   "cell_type": "code",
   "execution_count": null,
   "id": "b6613586-b1de-45c9-8fe9-b98f95968d8f",
   "metadata": {},
   "outputs": [],
   "source": [
    "print(pd.DataFrame(features))\n",
    "print(trainmeta)"
   ]
  }
 ],
 "metadata": {
  "kernelspec": {
   "display_name": "Python 3 (ipykernel)",
   "language": "python",
   "name": "python3"
  },
  "language_info": {
   "codemirror_mode": {
    "name": "ipython",
    "version": 3
   },
   "file_extension": ".py",
   "mimetype": "text/x-python",
   "name": "python",
   "nbconvert_exporter": "python",
   "pygments_lexer": "ipython3",
   "version": "3.12.4"
  }
 },
 "nbformat": 4,
 "nbformat_minor": 5
}
