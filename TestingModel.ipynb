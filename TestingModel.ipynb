{
 "cells": [
  {
   "cell_type": "code",
   "execution_count": 1,
   "id": "81ca475b-c055-465a-b284-1eec8a87716a",
   "metadata": {},
   "outputs": [
    {
     "name": "stderr",
     "output_type": "stream",
     "text": [
      "dispatcher.py:151: FutureWarning: \n",
      "Scikit-learn patching with daal4py is deprecated and will be removed in the future.\n",
      "Use Intel(R) Extension for Scikit-learn* module instead (pip install scikit-learn-intelex).\n",
      "To enable patching, please use one of the following options:\n",
      "1) From the command line:\n",
      "    python -m sklearnex <your_script>\n",
      "2) From your script:\n",
      "    from sklearnex import patch_sklearn\n",
      "    patch_sklearn()\n",
      "Intel(R) oneAPI Data Analytics Library solvers for sklearn enabled: https://intelpython.github.io/daal4py/sklearn.html\n"
     ]
    }
   ],
   "source": [
    "import sklearnex\n",
    "import numpy as np\n",
    "import pandas as pd\n",
    "import daal4py as d4p\n",
    "from sklearnex.ensemble import RandomForestClassifier\n",
    "from sklearn.preprocessing import StandardScaler, MinMaxScaler\n",
    "import joblib\n",
    "import scipy.io as sio\n",
    "from scipy.stats import kurtosis,skew\n",
    "import statistics as st\n",
    "from antropy import petrosian_fd as pfd \n",
    "from antropy import detrended_fluctuation as dfa\n",
    "from hurst import compute_Hc as he\n",
    "from pyentrp import entropy\n",
    "d4p.sklearn.patch_sklearn()"
   ]
  },
  {
   "cell_type": "code",
   "execution_count": 2,
   "id": "0bede2ef-0744-42fb-86b5-e4388d5d9732",
   "metadata": {},
   "outputs": [],
   "source": [
    "def hjorth(a):\n",
    "    first_deriv = np.diff(a)\n",
    "    second_deriv = np.diff(a,2)\n",
    "\n",
    "    var_zero = np.mean(a ** 2)\n",
    "    var_d1 = np.mean(first_deriv ** 2)\n",
    "    var_d2 = np.mean(second_deriv ** 2)\n",
    "\n",
    "    activity = var_zero\n",
    "    morbidity = np.sqrt(var_d1 / var_zero)\n",
    "    complexity = np.sqrt(var_d2 / var_d1) / morbidity\n",
    "\n",
    "    return activity, morbidity, complexity"
   ]
  },
  {
   "cell_type": "code",
   "execution_count": 3,
   "id": "b75afa8c-c7fe-4cea-aae7-04e91b0c310b",
   "metadata": {},
   "outputs": [],
   "source": [
    "def extract(d):\n",
    "    res = [0,0,0]\n",
    "    for ch,row in enumerate(d):\n",
    "        mean,std,kurt,skeww,minn,maxx,med,mode,q1,q3 = np.mean(row),np.std(row),kurtosis(row),skew(row),min(row),max(row),np.median(row),st.mode(row),np.quantile(row,.25),np.quantile(row,.75)\n",
    "        iqr = q3-q1\n",
    "        act,mob,comp = hjorth(row)\n",
    "        petf,defa,heux = pfd(row),dfa(row),he(row)[0]\n",
    "        perm,samp,shan = entropy.permutation_entropy(row,3,1),entropy.sample_entropy(row,2,0.2*np.std(row)),entropy.shannon_entropy(row)\n",
    "        energy = 0\n",
    "        for x in row:\n",
    "            energy+=(x**2)\n",
    "        res[ch] = [mean,std,kurt,skeww,minn,maxx,med,mode,q1,q3,iqr,act,mob,comp,petf,defa,heux,perm,samp[0],shan,energy]\n",
    "    return res"
   ]
  },
  {
   "cell_type": "code",
   "execution_count": 4,
   "id": "97071c4e-a5a1-4557-a9f5-56bae7f41f65",
   "metadata": {},
   "outputs": [],
   "source": [
    "def getinp():\n",
    "    return np.array([[int(input('Enter age: ')),int(input('Enter 1/0 for M/F: ')),float(input('Enter weight: '))]]*3)"
   ]
  },
  {
   "cell_type": "code",
   "execution_count": 5,
   "id": "250ad3ed-17b7-4e77-b628-e31f67287466",
   "metadata": {},
   "outputs": [],
   "source": [
    "def make_pred(data):\n",
    "    scaler = MinMaxScaler()\n",
    "    models = joblib.load('oneapi.joblib')\n",
    "    return models.predict(scaler.fit_transform(data))\n",
    "    "
   ]
  },
  {
   "cell_type": "code",
   "execution_count": 6,
   "id": "00bbe3ef-9df7-4db4-90fe-bd0d5d9658ca",
   "metadata": {},
   "outputs": [],
   "source": [
    "def pipe(fil):\n",
    "    testmeta = pd.read_csv(fil).T\n",
    "    extra = getinp()\n",
    "    data = np.asarray(extract(np.array(testmeta)))\n",
    "    data = np.concatenate([extra,data],axis=1)\n",
    "    return make_pred(data)"
   ]
  },
  {
   "cell_type": "code",
   "execution_count": 7,
   "id": "51071c5c-bd44-4d2c-9676-aa39c5dde2cf",
   "metadata": {
    "scrolled": true
   },
   "outputs": [
    {
     "name": "stdin",
     "output_type": "stream",
     "text": [
      "Enter age:  20\n",
      "Enter 1/0 for M/F:  1\n",
      "Enter weight:  50\n"
     ]
    },
    {
     "data": {
      "text/plain": [
       "array([0, 0, 0], dtype=int64)"
      ]
     },
     "execution_count": 7,
     "metadata": {},
     "output_type": "execute_result"
    }
   ],
   "source": [
    "pipe('TestingDataSamshu.csv')"
   ]
  }
 ],
 "metadata": {
  "kernelspec": {
   "display_name": "Python 3 (ipykernel)",
   "language": "python",
   "name": "python3"
  },
  "language_info": {
   "codemirror_mode": {
    "name": "ipython",
    "version": 3
   },
   "file_extension": ".py",
   "mimetype": "text/x-python",
   "name": "python",
   "nbconvert_exporter": "python",
   "pygments_lexer": "ipython3",
   "version": "3.12.4"
  }
 },
 "nbformat": 4,
 "nbformat_minor": 5
}
