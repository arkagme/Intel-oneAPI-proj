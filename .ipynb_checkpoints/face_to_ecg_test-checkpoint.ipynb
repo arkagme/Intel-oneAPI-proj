{
 "cells": [
  {
   "cell_type": "code",
   "execution_count": 2,
   "id": "c864de73-46df-474d-a393-d00a7566d72c",
   "metadata": {},
   "outputs": [],
   "source": [
    "import cv2 as cv\n",
    "import numpy as np\n",
    "import cupy as cp\n",
    "import cusignal\n",
    "import cupyx\n",
    "import time\n",
    "import csv\n",
    "import random\n",
    "import cupyx.scipy.ndimage as cuimg\n",
    "import matplotlib.pyplot as plt\n",
    "import matplotlib\n",
    "import os\n",
    "\n",
    "\n",
    "import argparse"
   ]
  },
  {
   "cell_type": "code",
   "execution_count": 4,
   "id": "deab41d3-b002-48c5-99f1-b818a39eedf8",
   "metadata": {},
   "outputs": [],
   "source": [
    "chroma_similarity = 10**2\n",
    "\n",
    "video_width = 1920\n",
    "video_height = 1080\n",
    "\n",
    "capture_device = 0\n",
    "\n",
    "buffer_size = 1024\n",
    "display_mode = 'normal'\n",
    "fps_display = True\n",
    "\n",
    "processing_mode = 'average_ppg'"
   ]
  },
  {
   "cell_type": "code",
   "execution_count": 5,
   "id": "e3997243-96e2-4fe8-8518-7e5927bd94a9",
   "metadata": {},
   "outputs": [],
   "source": [
    "parser = argparse.ArgumentParser()\n",
    "parser.add_argument(\"-f\", \"--file\", dest=\"filename\",\n",
    "                    help=\"Process a video file rather than a capture device.\", metavar=\"FILE\")\n",
    "# This argument currently doesn't do anything, I wanted to make this user-friendly but never got around to it!\n",
    "parser.add_argument('-w','--welch', dest='welch_flag', action=argparse.BooleanOptionalAction,\n",
    "                    help='Compute heart rate using the Welch estimator.')\n",
    "args = parser.parse_args()"
   ]
  },
  {
   "cell_type": "code",
   "execution_count": 6,
   "id": "896ed4e3-322e-4a70-9728-5d7106f309c4",
   "metadata": {},
   "outputs": [],
   "source": [
    "def csv_xyz(filename, data, names):\n",
    "    csv_begin(filename, names)\n",
    "    csv_append(filename, data)\n"
   ]
  },
  {
   "cell_type": "code",
   "execution_count": 7,
   "id": "2517a61e-b98d-46e1-8e8d-78e00ee4f7b5",
   "metadata": {},
   "outputs": [],
   "source": [
    "def mouseRGB(event, x, y, flags, params):\n",
    "    global skin_chroma\n",
    "    if event == cv.EVENT_LBUTTONDOWN:\n",
    "        skin_chroma = cp.array(cv.cvtColor(np.array([[frame[y,x]]]), cv.COLOR_BGR2YUV), dtype=cp.float32)[0,0,1:3]\n",
    "        print('RGB = ', frame[y,x], 'chroma = ', skin_chroma)"
   ]
  },
  {
   "cell_type": "code",
   "execution_count": 8,
   "id": "d15df650-ff54-4733-9e8f-d0c071499dc7",
   "metadata": {},
   "outputs": [],
   "source": [
    "def chroma_key(frame, chroma):\n",
    "    key = frame[:,:,1:3] - chroma\n",
    "    key = cp.less(cp.sum(cp.square(key), axis=2), chroma_similarity)\n",
    "    return key"
   ]
  },
  {
   "cell_type": "code",
   "execution_count": 9,
   "id": "637f9ce8-8825-46b9-bf68-e9d636215d34",
   "metadata": {},
   "outputs": [],
   "source": [
    "def chroma_key_display(frame, chroma):\n",
    "    \"\"\"\n",
    "    Convenience function to display the chroma key\n",
    "    \"\"\"\n",
    "    key = chroma_key(frame, chroma)\n",
    "    return cp.asnumpy(key*255).astype(np.uint8)\n"
   ]
  },
  {
   "cell_type": "code",
   "execution_count": 10,
   "id": "5b66cb54-2008-4f12-a062-bf8ea5463ab6",
   "metadata": {},
   "outputs": [],
   "source": [
    "def moving_average(a, n=3, axis=None):\n",
    "    # If it's not None, we're not gonna flatten the array...\n",
    "    if axis is not None:\n",
    "        # ...so temporarily swap the axis to the end\n",
    "        ret = np.swapaxes(a, 0, axis)\n",
    "    else:\n",
    "        ret = a\n",
    "    # take the cumulative sum of the input vector\n",
    "    ret = cp.cumsum(ret, axis=axis)\n",
    "    # subtract the cumsum, offset by n, to get the moving average via kludge\n",
    "    ret[n:,...] = ret[n:,...] - ret[:-n,...]\n",
    "    # Concatenate together 0 ..the numbers... 0 0 to pad it to the original length\n",
    "    ret = cp.concatenate((\n",
    "        # Following what R does, return fewer 0s at the start if n is even...\n",
    "        cp.zeros((int(np.floor((n-1)/2)), *ret.shape[1:])),\n",
    "        # ...then some numbers...\n",
    "        ret[(n - 1):,...] / n,\n",
    "        # ...then more 0s at the end if n is even (both equal if odd!)\n",
    "        cp.zeros((int(np.ceil((n-1)/2)), *ret.shape[1:]))\n",
    "    ))\n",
    "    # Swap the axis back if we swapped it at the start\n",
    "    if axis is not None:\n",
    "        ret = np.swapaxes(ret, 0, axis)\n",
    "    return ret"
   ]
  },
  {
   "cell_type": "code",
   "execution_count": 11,
   "id": "b229aa11-7757-430e-9bc2-da418ffe8eda",
   "metadata": {},
   "outputs": [],
   "source": [
    "def average_keyed(frame, key):\n",
    "    \"\"\"\n",
    "    Return the average YUV of the pixels which are True in key.\n",
    "    Args:\n",
    "        frame: a cupy array containing the frame\n",
    "        key: a cupy array of booleans\n",
    "    Returns:\n",
    "        A cupy array of [Y, U, V]\n",
    "    \"\"\"\n",
    "    output = cp.mean(frame[key], axis=0)\n",
    "    return output"
   ]
  },
  {
   "cell_type": "code",
   "execution_count": 12,
   "id": "e0d95016-83f7-402b-9f8f-2371dad7768b",
   "metadata": {},
   "outputs": [],
   "source": [
    "def csv_begin(filename, data):\n",
    "    with open(filename, 'w', newline='') as f:\n",
    "        writer = csv.writer(f)\n",
    "        writer.writerow(data)"
   ]
  },
  {
   "cell_type": "code",
   "execution_count": 13,
   "id": "2be01a48-2749-4c0a-8997-9144b339d87c",
   "metadata": {},
   "outputs": [],
   "source": [
    "def csv_append(filename, data):\n",
    "    with open(filename, 'a', newline='') as f:\n",
    "        writer = csv.writer(f)\n",
    "        writer.writerows(data)"
   ]
  },
  {
   "cell_type": "code",
   "execution_count": 14,
   "id": "d65784a9-1053-4741-8c86-f5c1c19147d4",
   "metadata": {},
   "outputs": [],
   "source": [
    "def magnify_colour_ma(ppg, delta=50, n_bg_ma=60, n_smooth_ma=3):\n",
    "    # Remove slow-moving background component\n",
    "    ppg = ppg - moving_average(ppg, n_bg_ma, 0)\n",
    "    # Smooth the resulting PPG\n",
    "    ppg = moving_average(ppg, n_smooth_ma, 0)\n",
    "    # Remove the NaNs or cp.max won't like it\n",
    "    ppg = cp.nan_to_num(ppg)\n",
    "    # Make it have a max delta of delta by normalising by the biggest deviation\n",
    "    return delta*ppg/cp.max(cp.abs(ppg))\n"
   ]
  },
  {
   "cell_type": "code",
   "execution_count": 15,
   "id": "05dcdd0a-d622-4cd2-96c2-a6af99f457ad",
   "metadata": {},
   "outputs": [],
   "source": [
    "def magnify_colour_ma_masked(ppg, mask, delta=50, n_bg_ma=60, n_smooth_ma=3):\n",
    "    # Remove slow-moving background component\n",
    "    ppg = ppg - moving_average(ppg, n_bg_ma, 0)\n",
    "    mask = moving_average(mask, n_bg_ma, 0)\n",
    "    # Smooth the resulting PPG\n",
    "    ppg = moving_average(ppg, n_smooth_ma, 0)\n",
    "    mask = moving_average(mask, n_smooth_ma, 0)\n",
    "    # Expand the mask to allow it to be used to, er, mask the ppg\n",
    "    # Remove any pixels in ppg that go to zero at any point in the windows, found because the mask which has been\n",
    "    # equivalently moving-averaged above drops below 1\n",
    "    ppg = np.where(mask[:,:,:, cp.newaxis] == 1., ppg, cp.zeros_like(ppg))\n",
    "    # Remove the NaNs or cp.max won't like it\n",
    "    ppg = cp.nan_to_num(ppg)\n",
    "    # Set the Y component to 0 (could've just done calcs on only U and V earlier, but I'm lazy)\n",
    "    ppg[:,:,:,0] = 0\n",
    "    # Make it have a max delta of delta by normalising by the biggest deviation\n",
    "    return delta*ppg/cp.max(cp.abs(ppg))"
   ]
  },
  {
   "cell_type": "code",
   "execution_count": null,
   "id": "98c376a6-3482-4b17-8781-7215d2b227a7",
   "metadata": {},
   "outputs": [],
   "source": []
  }
 ],
 "metadata": {
  "kernelspec": {
   "display_name": "Python 3 (ipykernel)",
   "language": "python",
   "name": "python3"
  },
  "language_info": {
   "codemirror_mode": {
    "name": "ipython",
    "version": 3
   },
   "file_extension": ".py",
   "mimetype": "text/x-python",
   "name": "python",
   "nbconvert_exporter": "python",
   "pygments_lexer": "ipython3",
   "version": "3.12.3"
  }
 },
 "nbformat": 4,
 "nbformat_minor": 5
}
