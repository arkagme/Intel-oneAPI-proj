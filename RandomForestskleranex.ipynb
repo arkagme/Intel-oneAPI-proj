{
 "cells": [
  {
   "cell_type": "code",
   "execution_count": 55,
   "id": "4913dddf-0b83-436c-9c8f-3e23738d8004",
   "metadata": {},
   "outputs": [
    {
     "name": "stderr",
     "output_type": "stream",
     "text": [
      "dispatcher.py:151: FutureWarning: \n",
      "Scikit-learn patching with daal4py is deprecated and will be removed in the future.\n",
      "Use Intel(R) Extension for Scikit-learn* module instead (pip install scikit-learn-intelex).\n",
      "To enable patching, please use one of the following options:\n",
      "1) From the command line:\n",
      "    python -m sklearnex <your_script>\n",
      "2) From your script:\n",
      "    from sklearnex import patch_sklearn\n",
      "    patch_sklearn()\n",
      "Intel(R) oneAPI Data Analytics Library solvers for sklearn enabled: https://intelpython.github.io/daal4py/sklearn.html\n"
     ]
    }
   ],
   "source": [
    "import sklearnex\n",
    "import xgboost as xgb\n",
    "from sklearnex.model_selection import train_test_split\n",
    "import numpy as np\n",
    "import pandas as pd\n",
    "import daal4py as d4p\n",
    "d4p.sklearn.patch_sklearn()"
   ]
  },
  {
   "cell_type": "code",
   "execution_count": 56,
   "id": "0af91bb7-ad86-4021-b33f-d2476556d85c",
   "metadata": {},
   "outputs": [],
   "source": [
    "import numpy as np\n",
    "import pandas as pd\n",
    "from sklearnex.ensemble import RandomForestClassifier\n",
    "from sklearn.metrics import confusion_matrix, accuracy_score, make_scorer, classification_report\n",
    "from sklearnex.model_selection import train_test_split\n",
    "from sklearn.preprocessing import StandardScaler, MinMaxScaler\n",
    "from sklearn import metrics\n",
    "import joblib"
   ]
  },
  {
   "cell_type": "code",
   "execution_count": 52,
   "id": "2cf777d8-2459-4446-a8d5-cff7558b2d5f",
   "metadata": {},
   "outputs": [],
   "source": [
    "data = pd.read_csv('extracted_features.csv',delimiter=',')\n",
    "x_train,x_test,y_train,y_test = train_test_split(data.drop(['label'],axis=1), data['label'], test_size = 0.3,random_state=47)\n",
    "scaler = StandardScaler()\n",
    "X_train = scaler.fit_transform(x_train)\n",
    "X_test = scaler.transform(x_test)"
   ]
  },
  {
   "cell_type": "code",
   "execution_count": 53,
   "id": "07918c83-b6a5-42e2-8acf-7b1a16eff0b3",
   "metadata": {},
   "outputs": [
    {
     "name": "stdout",
     "output_type": "stream",
     "text": [
      "accuracy 0.8042853409981708\n",
      "Precision 0.8071649712516585\n",
      "Recall 0.853601496725912\n"
     ]
    }
   ],
   "source": [
    "# Instantiate model with 1000 decision trees\n",
    "rf = RandomForestClassifier(n_estimators=1000)\n",
    "# Train the model on training data\n",
    "rf.fit(X_train, y_train)\n",
    "y_pred = rf.predict(X_test)\n",
    "\n",
    "print(\"accuracy\", accuracy_score(y_test,y_pred))\n",
    "\n",
    "print(\"Precision\", metrics.precision_score(y_test,y_pred))\n",
    "\n",
    "print(\"Recall\", metrics.recall_score(y_test,y_pred))"
   ]
  },
  {
   "cell_type": "code",
   "execution_count": 58,
   "id": "32fcbfe9-5020-48ba-a7fc-cbdec3d04726",
   "metadata": {},
   "outputs": [
    {
     "data": {
      "text/plain": [
       "['oneapi.joblib']"
      ]
     },
     "execution_count": 58,
     "metadata": {},
     "output_type": "execute_result"
    }
   ],
   "source": [
    "joblib.dump(rf,\"oneapi.joblib\")"
   ]
  },
  {
   "cell_type": "code",
   "execution_count": null,
   "id": "28a5d151-0eb9-44d0-b974-0b75555e515d",
   "metadata": {},
   "outputs": [],
   "source": []
  }
 ],
 "metadata": {
  "kernelspec": {
   "display_name": "Python 3 (ipykernel)",
   "language": "python",
   "name": "python3"
  },
  "language_info": {
   "codemirror_mode": {
    "name": "ipython",
    "version": 3
   },
   "file_extension": ".py",
   "mimetype": "text/x-python",
   "name": "python",
   "nbconvert_exporter": "python",
   "pygments_lexer": "ipython3",
   "version": "3.12.4"
  }
 },
 "nbformat": 4,
 "nbformat_minor": 5
}
